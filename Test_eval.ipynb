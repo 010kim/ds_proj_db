{
 "cells": [
  {
   "cell_type": "code",
   "execution_count": 2,
   "metadata": {},
   "outputs": [],
   "source": [
    "import mysql.connector\n",
    "from tabulate import tabulate\n",
    "import pandas as pd\n",
    "import math\n",
    "import sys\n"
   ]
  },
  {
   "cell_type": "code",
   "execution_count": 4,
   "metadata": {},
   "outputs": [],
   "source": [
    "HOST = \"147.46.15.238\"\n",
    "PORT = \"7000\"\n",
    "USER = \"DS2024_0022\"\n",
    "PASSWD = \"DS2024_0022\"\n",
    "DB = \"DS_proj_15\"\n",
    "\n",
    "connection = mysql.connector.connect(\n",
    "    host=HOST,\n",
    "    port=7000,\n",
    "    user=USER,\n",
    "    passwd=PASSWD,\n",
    "    db=DB,\n",
    "    autocommit=True  # to create table permanently\n",
    ")\n",
    "\n",
    "cur = connection.cursor(dictionary=True)\n"
   ]
  },
  {
   "cell_type": "code",
   "execution_count": 5,
   "metadata": {},
   "outputs": [],
   "source": [
    "def get_output(query):\n",
    "    cur.execute(query)\n",
    "    out = cur.fetchall()\n",
    "    df = pd.DataFrame(out)\n",
    "    return df"
   ]
  },
  {
   "cell_type": "code",
   "execution_count": 89,
   "metadata": {},
   "outputs": [],
   "source": [
    "#1\n",
    "rec_num = 15\n",
    "\n",
    "query = f\"\"\"select item, count\n",
    "                from (  select item, count(user) as count\n",
    "                        from ratings\n",
    "                        where rating is not Null\n",
    "                        group by item) R1\n",
    "                where item >=150 and item < 350\n",
    "                order by count desc, item asc\"\"\"\n",
    "\n",
    "sample = get_output(query)\n",
    "df = pd.DataFrame(sample, columns=['item', 'count'])\n"
   ]
  },
  {
   "cell_type": "code",
   "execution_count": 90,
   "metadata": {},
   "outputs": [
    {
     "name": "stdout",
     "output_type": "stream",
     "text": [
      "Output printed in test.txt\n"
     ]
    }
   ],
   "source": [
    "with open('test1.txt', 'w') as f:\n",
    "        f.write(tabulate(df, headers=df.columns, tablefmt='psql', showindex=False))\n",
    "print(\"Output printed in test1.txt\")"
   ]
  },
  {
   "cell_type": "code",
   "execution_count": 91,
   "metadata": {},
   "outputs": [
    {
     "name": "stdout",
     "output_type": "stream",
     "text": [
      "     item prediction\n",
      "0     316     0.8666\n",
      "1     203     0.8634\n",
      "2     307     0.8347\n",
      "3     290     0.8321\n",
      "4     310     0.8311\n",
      "..    ...        ...\n",
      "195   151     0.4378\n",
      "196   271     0.3591\n",
      "197   264     0.3576\n",
      "198   285     0.3413\n",
      "199   269     0.2810\n",
      "\n",
      "[200 rows x 2 columns]\n"
     ]
    }
   ],
   "source": [
    "#2\n",
    "query = f\"\"\"select R3.item, round(avg(R3.P_rating),4) as prediction\n",
    "                from (\n",
    "                    select R1.item, R1.user, round((R1.rating - R2.min_rating)/(R2.max_rating-R2.min_rating),4) as P_rating  \n",
    "                    from (select user, item, rating\n",
    "                        from ratings\n",
    "                        where user is Not Null and rating is Not Null) as R1\n",
    "                        left outer join\n",
    "                        (select user, max(rating) as max_rating, min(rating) as min_rating\n",
    "                        from ratings\n",
    "                        where user is Not Null and rating is Not Null\n",
    "                        group by user) as R2\n",
    "                        on R1.user = R2.user\n",
    "                ) R3\n",
    "                where R3.item >=150 and R3.item < 350\n",
    "                group by R3.item\n",
    "                order by prediction desc, item asc\"\"\"\n",
    "\n",
    "sample = get_output(query)\n",
    "df = pd.DataFrame(sample, columns=['item', 'prediction'])\n",
    "\n",
    "print(df)"
   ]
  },
  {
   "cell_type": "code",
   "execution_count": 92,
   "metadata": {},
   "outputs": [
    {
     "name": "stdout",
     "output_type": "stream",
     "text": [
      "Output printed in test.txt\n"
     ]
    }
   ],
   "source": [
    "with open('test2.txt', 'w') as f:\n",
    "        f.write(tabulate(df, headers=df.columns, tablefmt='psql', showindex=False))\n",
    "print(\"Output printed in test2.txt\")"
   ]
  },
  {
   "cell_type": "code",
   "execution_count": 88,
   "metadata": {},
   "outputs": [
    {
     "name": "stdout",
     "output_type": "stream",
     "text": [
      "   user  item prediction\n",
      "0     0   316     4.4839\n",
      "1     0   203     4.4609\n",
      "2     0    69     4.4362\n",
      "3     0   439     4.3889\n",
      "4     0   157     4.3381\n"
     ]
    }
   ],
   "source": [
    "#3\n",
    "\n",
    "query = f\"\"\"select G.user as user, G.item as item, G.prediction as prediction \n",
    "            from (select F.user as user, F.item_1 as item, round(sum(F.sim_adj * F.rating_adj), 4) as prediction \n",
    "                from (select D.item_1, D.item_2, D.sim_adj, E.user, E.rating_adj \n",
    "                from (select B.item_1, B.item_2, round(B.sim / B.sim_sum, 4) as sim_adj\n",
    "                    from (select A.item_1, A.item_2, A.sim, sum(A.sim) over (partition by A.item_1) as sim_sum \n",
    "                    from (select item_1, item_2, sim, row_number() over (partition by item_1 order by sim desc, item_2 asc) as rn from item_similarity) as A \n",
    "                    where A.rn <= 5) as B) as D\n",
    "                left join (\n",
    "                    select C.item, C.user, case when rating is not null then C.rating else C.avg_rating end as rating_adj from (\n",
    "                    select item, user, rating, avg(rating) over (partition by item) as avg_rating from ratings) as C\n",
    "                    ) as E\n",
    "                on D.item_1 = E.item) as F\n",
    "                group by F.user, F.item_1\n",
    "                having F.user = {user} ) as G\n",
    "            where G.item not in (select item from ratings where user = {user} and rating is not null )\n",
    "            order by prediction desc, item asc limit {rec_num}\"\"\"\n",
    "sample = get_output(query)\n",
    "print(sample)"
   ]
  },
  {
   "cell_type": "code",
   "execution_count": 51,
   "metadata": {},
   "outputs": [
    {
     "name": "stdout",
     "output_type": "stream",
     "text": [
      "Output printed in pbr.txt\n"
     ]
    }
   ],
   "source": [
    "with open('test3.txt', 'w') as f:\n",
    "        f.write(tabulate(df, headers=df.columns, tablefmt='psql', showindex=False))\n",
    "print(\"Output printed in test3.txt\")"
   ]
  }
 ],
 "metadata": {
  "kernelspec": {
   "display_name": "Python 3",
   "language": "python",
   "name": "python3"
  },
  "language_info": {
   "codemirror_mode": {
    "name": "ipython",
    "version": 3
   },
   "file_extension": ".py",
   "mimetype": "text/x-python",
   "name": "python",
   "nbconvert_exporter": "python",
   "pygments_lexer": "ipython3",
   "version": "3.11.4"
  }
 },
 "nbformat": 4,
 "nbformat_minor": 2
}
